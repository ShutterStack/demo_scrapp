{
  "nbformat": 4,
  "nbformat_minor": 0,
  "metadata": {
    "colab": {
      "provenance": []
    },
    "kernelspec": {
      "name": "python3",
      "display_name": "Python 3"
    },
    "language_info": {
      "name": "python"
    }
  },
  "cells": [
    {
      "cell_type": "code",
      "source": [
        "import pandas as pd\n",
        "from bs4 import BeautifulSoup\n",
        "import requests\n",
        "import re"
      ],
      "metadata": {
        "id": "QIa9ri9hLRRW"
      },
      "execution_count": 1,
      "outputs": []
    },
    {
      "cell_type": "code",
      "source": [
        "def clean_kilometers(km_str):\n",
        "    # Remove 'km' and any extra spaces\n",
        "    str = km_str.replace(' km', '').strip()\n",
        "    return int(str.replace(',', ''))\n",
        "\n",
        "def convert_price(price_str):\n",
        "    # Remove the '₹' symbol and 'Lakh' suffix\n",
        "    price_str = price_str.replace('₹', '').replace(' Lakh', '').strip()\n",
        "\n",
        "    # Convert the price to float and scale it up\n",
        "    return int(float(price_str.replace(',', '')) * 100)*1000\n"
      ],
      "metadata": {
        "id": "MRwA9cwzLSwP"
      },
      "execution_count": 2,
      "outputs": []
    },
    {
      "cell_type": "code",
      "source": [
        "# Get user input\n",
        "brand = input(\"Enter the brand name (e.g., Toyota): \").strip()\n",
        "city = input(\"Enter the city or location (e.g., Mumbai): \").strip()\n",
        "\n",
        "# Construct the URL\n",
        "base_url = f'https://www.cars24.com/buy-used-{brand.lower()}-cars-'\n",
        "city_slug = city.lower().replace(' ', '-')  # Convert city to a URL-friendly slug\n",
        "cars24_url = f'{base_url}{city_slug}/'"
      ],
      "metadata": {
        "colab": {
          "base_uri": "https://localhost:8080/"
        },
        "id": "c07ydPv0LWMI",
        "outputId": "6f81e378-2996-40d8-de17-afffb11e35dd"
      },
      "execution_count": 3,
      "outputs": [
        {
          "name": "stdout",
          "output_type": "stream",
          "text": [
            "Enter the brand name (e.g., Toyota): honda\n",
            "Enter the city or location (e.g., Mumbai): new delhi\n"
          ]
        }
      ]
    },
    {
      "cell_type": "code",
      "source": [
        "# Send a GET request to the URL\n",
        "headers = {\n",
        "    'User-Agent': 'Mozilla/5.0 (Windows NT 10.0; Win64; x64) AppleWebKit/537.36 (KHTML, like Gecko) Chrome/91.0.4472.124 Safari/537.36'\n",
        "}\n",
        "response = requests.get(cars24_url, headers=headers)\n",
        "\n",
        "# Parse the HTML content\n",
        "soup = BeautifulSoup(response.content, \"html.parser\")\n",
        "\n",
        "cars_data = []"
      ],
      "metadata": {
        "id": "TiRVQFvELYYn"
      },
      "execution_count": 4,
      "outputs": []
    },
    {
      "cell_type": "code",
      "source": [
        "# Locate the car elements\n",
        "car_elements = soup.find_all('div', class_='_2YB7p')\n",
        "\n",
        "for car_element in car_elements:\n",
        "    # Extract car model and clean it\n",
        "    car_model_tag = car_element.find('h3', class_='_11dVb')\n",
        "    if car_model_tag:\n",
        "        car_model = car_model_tag.text\n",
        "        year = car_model.split()[0]\n",
        "        model = ' '.join(car_model.split()[1:]).replace(f'{brand} ', '')\n",
        "    else:\n",
        "        year = model = 'Unknown'\n",
        "\n",
        "    # Extract car details (km run, fuel type, transmission type)\n",
        "    details_tag = car_element.find('ul', class_='_3J2G-')\n",
        "    if details_tag:\n",
        "        details = details_tag.find_all('li')\n",
        "        km_run = details[0].text.strip()\n",
        "        fuel_type = details[2].text.strip()\n",
        "        transmission = details[4].text.strip()\n",
        "    else:\n",
        "        km_run = fuel_type = transmission = 'Unknown'\n",
        "\n",
        "    # Extract car price\n",
        "    price_tag = car_element.find('strong', class_='_3RL-I')\n",
        "    price = price_tag.text if price_tag else 'Unknown'\n",
        "\n",
        "    # Set location based on user input\n",
        "    location = city\n",
        "\n",
        "    cars_data.append({\n",
        "        'Brand': brand,\n",
        "        'Manufacturing Year': year,\n",
        "        'Model': model,\n",
        "        'Kilometers Driven': km_run,\n",
        "        'Fuel Type': fuel_type,\n",
        "        'Transmission Type': transmission,\n",
        "        'Price': price,\n",
        "        'Location': location\n",
        "    })\n"
      ],
      "metadata": {
        "id": "3R4_lRDuLbs6"
      },
      "execution_count": 5,
      "outputs": []
    },
    {
      "cell_type": "code",
      "source": [
        "# Create DataFrame\n",
        "cars24_df = pd.DataFrame(cars_data)\n",
        "\n",
        "# Apply cleaning functions to the DataFrame\n",
        "cars24_df['Kilometers Driven'] = cars24_df['Kilometers Driven'].apply(clean_kilometers)\n",
        "cars24_df['Price'] = cars24_df['Price'].apply(convert_price)\n",
        "\n",
        "# Save the DataFrame to a CSV file\n",
        "file_name = f'{brand.lower()}-{city.lower()}.csv'\n",
        "cars24_df.to_csv(file_name, index=False)\n",
        "\n",
        "# Display the DataFrame\n",
        "print(cars24_df)\n",
        "print(f'Data saved to {file_name}')"
      ],
      "metadata": {
        "colab": {
          "base_uri": "https://localhost:8080/"
        },
        "id": "MsT7qxi_Le8F",
        "outputId": "94690b70-7ed6-451a-d42d-1632de0d68c5"
      },
      "execution_count": 6,
      "outputs": [
        {
          "output_type": "stream",
          "name": "stdout",
          "text": [
            "    Brand Manufacturing Year                          Model  \\\n",
            "0   honda               2015    Honda City 1.5L I-VTEC V MT   \n",
            "1   honda               2020    Honda City 1.5L I-VTE V CVT   \n",
            "2   honda               2021    Honda City 1.5L I-VTE V CVT   \n",
            "3   honda               2015    Honda City 1.5L I-VTEC V MT   \n",
            "4   honda               2018   Honda WR-V 1.2L I-VTEC VX MT   \n",
            "5   honda               2015      Honda Amaze 1.2L I-VTEC S   \n",
            "6   honda               2017   Honda WR-V 1.2L I-VTEC VX MT   \n",
            "7   honda               2019      Honda City 1.5L I-VTEC ZX   \n",
            "8   honda               2014  Honda City 1.5L I-VTEC VX CVT   \n",
            "9   honda               2021      Honda City 1.5L I-VTEC ZX   \n",
            "10  honda               2016      Honda Jazz 1.2L I-VTEC VX   \n",
            "11  honda               2019      Honda Amaze 1.2L I-VTEC S   \n",
            "12  honda               2013     Honda Amaze 1.2L I-VTEC EX   \n",
            "13  honda               2019       Honda Jazz 1.2L I-VTEC V   \n",
            "14  honda               2020      Honda Amaze 1.2L I-VTEC S   \n",
            "15  honda               2017  Honda City 1.5L I-VTEC ZX CVT   \n",
            "16  honda               2019   Honda WR-V 1.2L I-VTEC VX MT   \n",
            "17  honda               2016       Honda Jazz 1.2L I-VTEC V   \n",
            "18  honda               2019      Honda Amaze 1.5L I-DTEC E   \n",
            "19  honda               2014  Honda City 1.5L I-VTEC VX CVT   \n",
            "\n",
            "    Kilometers Driven Fuel Type Transmission Type    Price   Location  \n",
            "0               97044    Petrol            Manual   515000  new delhi  \n",
            "1               55879    Petrol         Automatic   881000  new delhi  \n",
            "2               34459    Petrol         Automatic  1042000  new delhi  \n",
            "3               89726    Petrol            Manual   515000  new delhi  \n",
            "4                9363    Petrol            Manual   667000  new delhi  \n",
            "5               41525    Petrol            Manual   367000  new delhi  \n",
            "6               41985    Petrol            Manual   602000  new delhi  \n",
            "7               33671    Petrol            Manual   852000  new delhi  \n",
            "8               69403    Petrol         Automatic   554000  new delhi  \n",
            "9                5404    Petrol            Manual  1184000  new delhi  \n",
            "10              35788    Petrol            Manual   401000  new delhi  \n",
            "11              47429    Petrol            Manual   549000  new delhi  \n",
            "12             107855    Petrol            Manual   273000  new delhi  \n",
            "13              54689    Petrol            Manual   566000  new delhi  \n",
            "14              52036    Petrol            Manual   579000  new delhi  \n",
            "15              39103    Petrol         Automatic   803000  new delhi  \n",
            "16              17242    Petrol            Manual   726000  new delhi  \n",
            "17              79166    Petrol            Manual   386000  new delhi  \n",
            "18              43683    Diesel            Manual   578000  new delhi  \n",
            "19              94423    Petrol         Automatic   476000  new delhi  \n",
            "Data saved to honda-new delhi.csv\n"
          ]
        }
      ]
    },
    {
      "cell_type": "code",
      "execution_count": null,
      "metadata": {
        "id": "Of3dGVVLLHac"
      },
      "outputs": [],
      "source": []
    }
  ]
}